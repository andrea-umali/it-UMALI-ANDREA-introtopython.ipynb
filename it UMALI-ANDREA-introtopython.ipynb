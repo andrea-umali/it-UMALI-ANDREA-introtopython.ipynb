{
 "cells": [
  {
   "cell_type": "markdown",
   "metadata": {},
   "source": [
    "## 195107\n",
    "## Umali\n",
    "## 2 - BS ITE"
   ]
  },
  {
   "cell_type": "code",
   "execution_count": 13,
   "metadata": {},
   "outputs": [],
   "source": [
    "def compute_mean(first_number, second_number, third_number):\n",
    "        mean = ((first_number + second_number + third_number) / 3)\n",
    "        return mean"
   ]
  },
  {
   "cell_type": "code",
   "execution_count": 16,
   "metadata": {},
   "outputs": [
    {
     "name": "stdout",
     "output_type": "stream",
     "text": [
      "Enter first number 2\n",
      "Enter second number 4\n",
      "Enter third number 6\n",
      "Average is equal to  4.0\n"
     ]
    }
   ],
   "source": [
    "# ask for first number\n",
    "first_number = float(input(\"Enter first number \"))\n",
    "\n",
    "# ask for second number\n",
    "second_number = float(input(\"Enter second number \"))\n",
    "\n",
    "# ask for third number\n",
    "third_number = float(input(\"Enter third number \"))\n",
    "\n",
    "# compute for mean\n",
    "mean = compute_mean(first_number, second_number, third_number)\n",
    "\n",
    "# display the mean\n",
    "print(\"Average is equal to \", mean)\n"
   ]
  },
  {
   "cell_type": "code",
   "execution_count": null,
   "metadata": {},
   "outputs": [],
   "source": []
  }
 ],
 "metadata": {
  "kernelspec": {
   "display_name": "Python 3",
   "language": "python",
   "name": "python3"
  }
 },
 "nbformat": 4,
 "nbformat_minor": 4
}
